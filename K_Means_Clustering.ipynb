{
  "nbformat": 4,
  "nbformat_minor": 0,
  "metadata": {
    "colab": {
      "provenance": []
    },
    "kernelspec": {
      "name": "python3",
      "display_name": "Python 3"
    },
    "language_info": {
      "name": "python"
    }
  },
  "cells": [
    {
      "cell_type": "code",
      "source": [
        "import matplotlib as plt\n",
        "from sklearn.datasets import make_blobs\n",
        "from sklearn.cluster import KMeans\n",
        "from sklearn.metrics import silhouette_score\n",
        "from sklearn.preprocessing import StandardScaler"
      ],
      "metadata": {
        "id": "S6ePUqDTGwHm"
      },
      "execution_count": null,
      "outputs": []
    },
    {
      "cell_type": "code",
      "source": [
        "features, true_label = make_blobs(\n",
        "    n_samples=33,\n",
        "    centers=5,\n",
        "    cluster_std=3,\n",
        "    random_state=42\n",
        ")"
      ],
      "metadata": {
        "id": "nkPblt_CGxB_"
      },
      "execution_count": null,
      "outputs": []
    },
    {
      "cell_type": "code",
      "source": [
        "features[:10]"
      ],
      "metadata": {
        "colab": {
          "base_uri": "https://localhost:8080/"
        },
        "id": "9QCDzpecHyL3",
        "outputId": "85ca773b-a486-43fc-dbb8-17af3b33a6ca"
      },
      "execution_count": null,
      "outputs": [
        {
          "output_type": "execute_result",
          "data": {
            "text/plain": [
              "array([[  4.60620021,  -0.49427984],\n",
              "       [  1.77552708,   8.1217739 ],\n",
              "       [ -1.49853686,   6.56070921],\n",
              "       [ -4.27360635,  -0.84389633],\n",
              "       [-12.02430497,  -7.84677167],\n",
              "       [  2.6313706 ,   2.56843081],\n",
              "       [ -3.66822652,  -6.18045227],\n",
              "       [  2.81751401,  10.91352694],\n",
              "       [ -1.69486686,   9.73218813],\n",
              "       [ -2.72122732,   9.95245406]])"
            ]
          },
          "metadata": {},
          "execution_count": 38
        }
      ]
    },
    {
      "cell_type": "code",
      "source": [
        "true_label[:200]"
      ],
      "metadata": {
        "id": "agqrrSs7H4VM",
        "colab": {
          "base_uri": "https://localhost:8080/"
        },
        "outputId": "f88ca953-1e22-4579-d123-c2baa7e35885"
      },
      "execution_count": null,
      "outputs": [
        {
          "output_type": "execute_result",
          "data": {
            "text/plain": [
              "array([1, 4, 4, 1, 2, 1, 2, 4, 0, 0, 1, 1, 1, 4, 3, 3, 1, 3, 2, 1, 4, 3,\n",
              "       2, 3, 0, 3, 0, 3, 2, 1, 0, 0, 0, 4, 4, 0, 3, 1, 3, 0, 3, 1, 0, 3,\n",
              "       0, 2, 0, 3, 2, 2, 2, 0, 4, 1, 4, 4, 4, 3, 3, 2, 2, 0, 4, 2, 0, 4,\n",
              "       4, 2, 4, 4, 1, 1, 4, 1, 4, 1, 1, 0, 3, 2, 2, 0, 1, 3, 2, 3, 1, 1,\n",
              "       0, 1, 4, 2, 1, 2, 0, 1, 0, 2, 1, 4, 4, 4, 0, 1, 0, 2, 2, 2, 2, 2,\n",
              "       4, 0, 1, 4, 2, 4, 3, 3, 2, 4, 3, 4, 4, 4, 4, 2, 0, 1, 2, 4, 1, 3,\n",
              "       4, 3, 1, 3, 2, 1, 4, 4, 2, 2, 3, 2, 2, 3, 4, 2, 3, 4, 3, 1, 0, 0,\n",
              "       0, 3, 4, 4, 2, 0, 4, 0, 2, 3, 3, 2, 3, 1, 1, 3, 1, 1, 3, 4, 2, 4,\n",
              "       0, 0, 2, 4, 0, 0, 2, 1, 3, 0, 2, 0, 0, 4, 4, 1, 4, 0, 3, 3, 3, 4,\n",
              "       3, 1])"
            ]
          },
          "metadata": {},
          "execution_count": 39
        }
      ]
    },
    {
      "cell_type": "code",
      "source": [
        "standard_skala = StandardScaler()\n",
        "skala_fitur = standard_skala.fit_transform(features)"
      ],
      "metadata": {
        "id": "TwN5RrbbI2aJ"
      },
      "execution_count": null,
      "outputs": []
    },
    {
      "cell_type": "code",
      "source": [
        "skala_fitur[:10]"
      ],
      "metadata": {
        "colab": {
          "base_uri": "https://localhost:8080/"
        },
        "id": "yXpt4mI4Oyf8",
        "outputId": "024de845-a77b-4d8c-e277-0d28608dc474"
      },
      "execution_count": null,
      "outputs": [
        {
          "output_type": "execute_result",
          "data": {
            "text/plain": [
              "array([[ 1.16392051, -0.5840387 ],\n",
              "       [ 0.68685922,  0.77386117],\n",
              "       [ 0.13507203,  0.5278356 ],\n",
              "       [-0.33261822, -0.63913866],\n",
              "       [-1.63886522, -1.74279979],\n",
              "       [ 0.83109693, -0.10135202],\n",
              "       [-0.23059186, -1.48018595],\n",
              "       [ 0.8624682 ,  1.21384463],\n",
              "       [ 0.10198398,  1.02766429],\n",
              "       [-0.07099143,  1.06237845]])"
            ]
          },
          "metadata": {},
          "execution_count": 41
        }
      ]
    },
    {
      "cell_type": "code",
      "source": [
        "metode_kmeans = KMeans(\n",
        "    init=\"random\",\n",
        "    n_clusters=5,\n",
        "    n_init=10,\n",
        "    max_iter=100,\n",
        "    random_state=41\n",
        "    )"
      ],
      "metadata": {
        "id": "5lWkbEx6PDq_"
      },
      "execution_count": null,
      "outputs": []
    },
    {
      "cell_type": "code",
      "source": [
        "metode_kmeans.fit(skala_fitur)"
      ],
      "metadata": {
        "colab": {
          "base_uri": "https://localhost:8080/",
          "height": 75
        },
        "id": "ZmyPuP06R2Gc",
        "outputId": "1a266c1b-c06d-4ebc-8e76-eb4cc61ef989"
      },
      "execution_count": null,
      "outputs": [
        {
          "output_type": "execute_result",
          "data": {
            "text/plain": [
              "KMeans(init='random', max_iter=100, n_clusters=5, n_init=10, random_state=41)"
            ],
            "text/html": [
              "<style>#sk-container-id-2 {color: black;background-color: white;}#sk-container-id-2 pre{padding: 0;}#sk-container-id-2 div.sk-toggleable {background-color: white;}#sk-container-id-2 label.sk-toggleable__label {cursor: pointer;display: block;width: 100%;margin-bottom: 0;padding: 0.3em;box-sizing: border-box;text-align: center;}#sk-container-id-2 label.sk-toggleable__label-arrow:before {content: \"▸\";float: left;margin-right: 0.25em;color: #696969;}#sk-container-id-2 label.sk-toggleable__label-arrow:hover:before {color: black;}#sk-container-id-2 div.sk-estimator:hover label.sk-toggleable__label-arrow:before {color: black;}#sk-container-id-2 div.sk-toggleable__content {max-height: 0;max-width: 0;overflow: hidden;text-align: left;background-color: #f0f8ff;}#sk-container-id-2 div.sk-toggleable__content pre {margin: 0.2em;color: black;border-radius: 0.25em;background-color: #f0f8ff;}#sk-container-id-2 input.sk-toggleable__control:checked~div.sk-toggleable__content {max-height: 200px;max-width: 100%;overflow: auto;}#sk-container-id-2 input.sk-toggleable__control:checked~label.sk-toggleable__label-arrow:before {content: \"▾\";}#sk-container-id-2 div.sk-estimator input.sk-toggleable__control:checked~label.sk-toggleable__label {background-color: #d4ebff;}#sk-container-id-2 div.sk-label input.sk-toggleable__control:checked~label.sk-toggleable__label {background-color: #d4ebff;}#sk-container-id-2 input.sk-hidden--visually {border: 0;clip: rect(1px 1px 1px 1px);clip: rect(1px, 1px, 1px, 1px);height: 1px;margin: -1px;overflow: hidden;padding: 0;position: absolute;width: 1px;}#sk-container-id-2 div.sk-estimator {font-family: monospace;background-color: #f0f8ff;border: 1px dotted black;border-radius: 0.25em;box-sizing: border-box;margin-bottom: 0.5em;}#sk-container-id-2 div.sk-estimator:hover {background-color: #d4ebff;}#sk-container-id-2 div.sk-parallel-item::after {content: \"\";width: 100%;border-bottom: 1px solid gray;flex-grow: 1;}#sk-container-id-2 div.sk-label:hover label.sk-toggleable__label {background-color: #d4ebff;}#sk-container-id-2 div.sk-serial::before {content: \"\";position: absolute;border-left: 1px solid gray;box-sizing: border-box;top: 0;bottom: 0;left: 50%;z-index: 0;}#sk-container-id-2 div.sk-serial {display: flex;flex-direction: column;align-items: center;background-color: white;padding-right: 0.2em;padding-left: 0.2em;position: relative;}#sk-container-id-2 div.sk-item {position: relative;z-index: 1;}#sk-container-id-2 div.sk-parallel {display: flex;align-items: stretch;justify-content: center;background-color: white;position: relative;}#sk-container-id-2 div.sk-item::before, #sk-container-id-2 div.sk-parallel-item::before {content: \"\";position: absolute;border-left: 1px solid gray;box-sizing: border-box;top: 0;bottom: 0;left: 50%;z-index: -1;}#sk-container-id-2 div.sk-parallel-item {display: flex;flex-direction: column;z-index: 1;position: relative;background-color: white;}#sk-container-id-2 div.sk-parallel-item:first-child::after {align-self: flex-end;width: 50%;}#sk-container-id-2 div.sk-parallel-item:last-child::after {align-self: flex-start;width: 50%;}#sk-container-id-2 div.sk-parallel-item:only-child::after {width: 0;}#sk-container-id-2 div.sk-dashed-wrapped {border: 1px dashed gray;margin: 0 0.4em 0.5em 0.4em;box-sizing: border-box;padding-bottom: 0.4em;background-color: white;}#sk-container-id-2 div.sk-label label {font-family: monospace;font-weight: bold;display: inline-block;line-height: 1.2em;}#sk-container-id-2 div.sk-label-container {text-align: center;}#sk-container-id-2 div.sk-container {/* jupyter's `normalize.less` sets `[hidden] { display: none; }` but bootstrap.min.css set `[hidden] { display: none !important; }` so we also need the `!important` here to be able to override the default hidden behavior on the sphinx rendered scikit-learn.org. See: https://github.com/scikit-learn/scikit-learn/issues/21755 */display: inline-block !important;position: relative;}#sk-container-id-2 div.sk-text-repr-fallback {display: none;}</style><div id=\"sk-container-id-2\" class=\"sk-top-container\"><div class=\"sk-text-repr-fallback\"><pre>KMeans(init=&#x27;random&#x27;, max_iter=100, n_clusters=5, n_init=10, random_state=41)</pre><b>In a Jupyter environment, please rerun this cell to show the HTML representation or trust the notebook. <br />On GitHub, the HTML representation is unable to render, please try loading this page with nbviewer.org.</b></div><div class=\"sk-container\" hidden><div class=\"sk-item\"><div class=\"sk-estimator sk-toggleable\"><input class=\"sk-toggleable__control sk-hidden--visually\" id=\"sk-estimator-id-2\" type=\"checkbox\" checked><label for=\"sk-estimator-id-2\" class=\"sk-toggleable__label sk-toggleable__label-arrow\">KMeans</label><div class=\"sk-toggleable__content\"><pre>KMeans(init=&#x27;random&#x27;, max_iter=100, n_clusters=5, n_init=10, random_state=41)</pre></div></div></div></div></div>"
            ]
          },
          "metadata": {},
          "execution_count": 43
        }
      ]
    },
    {
      "cell_type": "code",
      "source": [
        "metode_kmeans.inertia_"
      ],
      "metadata": {
        "id": "b3JVLMkcSNaE",
        "colab": {
          "base_uri": "https://localhost:8080/"
        },
        "outputId": "11675bfc-ea47-45ae-960d-41cb07003605"
      },
      "execution_count": null,
      "outputs": [
        {
          "output_type": "execute_result",
          "data": {
            "text/plain": [
              "149.75563786326762"
            ]
          },
          "metadata": {},
          "execution_count": 44
        }
      ]
    },
    {
      "cell_type": "code",
      "source": [
        "metode_kmeans.cluster_centers_"
      ],
      "metadata": {
        "colab": {
          "base_uri": "https://localhost:8080/"
        },
        "id": "3evacVnUUMR5",
        "outputId": "51dc6a0c-1bbc-4aac-a4ff-80ca79635a68"
      },
      "execution_count": null,
      "outputs": [
        {
          "output_type": "execute_result",
          "data": {
            "text/plain": [
              "array([[-1.1829037 ,  0.66452334],\n",
              "       [-0.78356041, -1.6353245 ],\n",
              "       [-0.09727261,  1.01098652],\n",
              "       [ 0.69231723,  0.29796635],\n",
              "       [ 1.34231679, -0.29921601]])"
            ]
          },
          "metadata": {},
          "execution_count": 45
        }
      ]
    },
    {
      "cell_type": "code",
      "source": [
        "metode_kmeans.n_iter_"
      ],
      "metadata": {
        "colab": {
          "base_uri": "https://localhost:8080/"
        },
        "id": "NoWHmBQaURp2",
        "outputId": "f0dd9b86-1c89-4955-c42e-b333569f72d6"
      },
      "execution_count": null,
      "outputs": [
        {
          "output_type": "execute_result",
          "data": {
            "text/plain": [
              "17"
            ]
          },
          "metadata": {},
          "execution_count": 46
        }
      ]
    },
    {
      "cell_type": "code",
      "source": [
        "metode_kmeans.labels_"
      ],
      "metadata": {
        "colab": {
          "base_uri": "https://localhost:8080/"
        },
        "id": "SJNbkGhEWQRQ",
        "outputId": "9b269dd2-92d6-443c-8e62-6cdfade29935"
      },
      "execution_count": null,
      "outputs": [
        {
          "output_type": "execute_result",
          "data": {
            "text/plain": [
              "array([4, 3, 2, 1, 1, 3, 1, 3, 2, 2, 4, 4, 3, 3, 0, 0, 3, 0, 1, 4, 3, 0,\n",
              "       1, 0, 2, 0, 2, 0, 1, 3, 2, 0, 3, 4, 4, 2, 0, 4, 0, 2, 0, 3, 2, 2,\n",
              "       2, 1, 2, 0, 1, 1, 1, 3, 3, 3, 3, 3, 3, 0, 0, 1, 1, 2, 3, 1, 2, 3,\n",
              "       3, 1, 4, 3, 4, 4, 3, 3, 3, 4, 4, 3, 0, 1, 1, 2, 3, 0, 1, 0, 3, 3,\n",
              "       3, 4, 3, 1, 3, 1, 2, 4, 2, 1, 4, 3, 3, 4, 2, 4, 2, 1, 1, 1, 4, 1,\n",
              "       4, 2, 4, 4, 1, 4, 0, 0, 1, 3, 0, 4, 3, 3, 3, 1, 2, 4, 1, 3, 4, 0,\n",
              "       3, 0, 4, 0, 1, 4, 2, 3, 1, 1, 0, 1, 1, 0, 3, 1, 0, 3, 2, 3, 2, 2,\n",
              "       2, 2, 2, 4, 1, 2, 3, 2, 1, 0, 0, 1, 0, 4, 3, 0, 4, 4, 0, 3, 1, 4,\n",
              "       2, 0, 1, 3, 3, 0, 1, 4, 0, 0, 1, 2, 3, 3, 4, 3, 3, 0, 0, 0, 2, 4,\n",
              "       0, 4, 3, 2, 0, 0, 3, 2, 3, 0, 3, 3, 1, 3, 0, 4, 4, 3, 2, 2, 1, 2,\n",
              "       2, 2, 2, 2, 2, 4, 4, 2, 0, 4, 3, 0, 2, 3, 1, 3, 0, 1, 2, 1, 0, 0,\n",
              "       2, 1, 4, 3, 1, 0, 2, 3, 3, 1, 3, 2, 1, 2, 4, 4, 0, 3, 4, 4, 2, 3,\n",
              "       2, 0, 1, 4, 2, 4, 0, 2, 2, 3, 3, 2, 2, 2, 4, 3, 0, 2, 1, 4, 2, 0,\n",
              "       4, 1, 4, 3, 1, 0, 2, 2, 4, 0, 4, 0, 1, 0, 4, 1, 4, 4, 1, 2, 4, 0,\n",
              "       0, 1, 4, 1, 0, 1, 1, 4, 3, 3, 1, 4, 4, 3, 1, 4, 3, 1, 0, 1, 3, 3,\n",
              "       0, 0, 3, 4, 3, 4, 2, 2, 4, 3, 4, 1, 4, 4, 4, 1, 2, 0, 2, 4, 1, 1,\n",
              "       4, 1, 3, 4, 1, 3, 2, 1, 4, 3, 2, 1, 0, 2, 4, 1, 1, 4, 4, 0, 0, 4,\n",
              "       0, 0, 4, 3, 1, 3, 3, 0, 0, 3, 2, 0, 3, 0, 2, 0, 4, 1, 3, 1, 2, 3,\n",
              "       1, 0, 1, 0, 3, 2, 2, 1, 3, 1, 4, 1, 4, 0, 3, 1, 1, 0, 3, 1, 0, 4,\n",
              "       1, 4, 2, 3, 3, 3, 2, 0, 2, 1, 0, 1, 4, 2, 4, 1, 0, 0, 0, 0, 0, 3,\n",
              "       3, 3, 2, 3, 1, 3, 4, 2, 0, 0, 0, 2, 4, 1, 3, 3, 2, 1, 0, 1, 4, 2,\n",
              "       3, 1, 0, 4, 0, 1, 2, 4, 3, 1, 0, 2, 0, 3, 3, 2, 3, 4, 3, 0, 3, 1,\n",
              "       3, 3, 3, 4, 2, 0, 0, 0, 1, 2, 4, 3, 0, 1, 3, 0], dtype=int32)"
            ]
          },
          "metadata": {},
          "execution_count": 47
        }
      ]
    },
    {
      "cell_type": "code",
      "source": [
        "import numpy as np\n",
        "import matplotlib.pyplot as plt\n",
        "import pandas as pd\n",
        "\n"
      ],
      "metadata": {
        "id": "zjyCAIU6Wxmt"
      },
      "execution_count": null,
      "outputs": []
    },
    {
      "cell_type": "code",
      "source": [],
      "metadata": {
        "id": "DvBn2AwbZbSb"
      },
      "execution_count": null,
      "outputs": []
    },
    {
      "cell_type": "code",
      "source": [
        "\n",
        "color = np.array([\"Red\",\"Green\",\"Blue\",\"yellow\",\"brown\"])\n",
        "plt.subplot(1,2,2)\n",
        "plt.scatter(skala_fitur[:,0], skala_fitur[:,1], s=50, alpha=1, cmap='viridis', c=color[metode_kmeans.labels_])\n"
      ],
      "metadata": {
        "colab": {
          "base_uri": "https://localhost:8080/",
          "height": 317
        },
        "id": "tJyWKlbxZmqa",
        "outputId": "08c99423-af87-431a-d49e-bfa19de89605"
      },
      "execution_count": null,
      "outputs": [
        {
          "output_type": "stream",
          "name": "stderr",
          "text": [
            "<ipython-input-54-860e6561b51d>:3: UserWarning: No data for colormapping provided via 'c'. Parameters 'cmap' will be ignored\n",
            "  plt.scatter(skala_fitur[:,0], skala_fitur[:,1], s=50, alpha=1, cmap='viridis', c=color[metode_kmeans.labels_])\n"
          ]
        },
        {
          "output_type": "execute_result",
          "data": {
            "text/plain": [
              "<matplotlib.collections.PathCollection at 0x7f6d85a00a30>"
            ]
          },
          "metadata": {},
          "execution_count": 54
        },
        {
          "output_type": "display_data",
          "data": {
            "text/plain": [
              "<Figure size 432x288 with 1 Axes>"
            ],
            "image/png": "[encoded data removed]"
          },
          "metadata": {
            "needs_background": "light"
          }
        }
      ]
    },
    {
      "cell_type": "code",
      "source": [],
      "metadata": {
        "id": "uoAIyQgVIubc"
      },
      "execution_count": null,
      "outputs": []
    }
  ]
}